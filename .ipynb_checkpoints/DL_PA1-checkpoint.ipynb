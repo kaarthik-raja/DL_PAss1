{
 "cells": [
  {
   "cell_type": "code",
   "execution_count": 1,
   "metadata": {},
   "outputs": [],
   "source": [
    "import numpy as np\n",
    "import pandas as pd \n",
    "import matplotlib.pyplot as plt\n"
   ]
  },
  {
   "cell_type": "code",
   "execution_count": 2,
   "metadata": {},
   "outputs": [],
   "source": [
    "import argparse"
   ]
  },
  {
   "cell_type": "code",
   "execution_count": 3,
   "metadata": {},
   "outputs": [],
   "source": [
    "train=pd.read_csv(\"Data/train.csv\")\n",
    "test=pd.read_csv(\"Data/test.csv\")"
   ]
  },
  {
   "cell_type": "code",
   "execution_count": 4,
   "metadata": {},
   "outputs": [],
   "source": [
    "train=np.asarray(train)\n",
    "test=np.asarray(test)"
   ]
  },
  {
   "cell_type": "code",
   "execution_count": 5,
   "metadata": {},
   "outputs": [],
   "source": [
    "np.random.shuffle(train)\n",
    "np.random.shuffle(test)\n"
   ]
  },
  {
   "cell_type": "code",
   "execution_count": 6,
   "metadata": {},
   "outputs": [],
   "source": [
    "val=pd.read_csv(\"Data/valid.csv\")"
   ]
  },
  {
   "cell_type": "code",
   "execution_count": 12,
   "metadata": {},
   "outputs": [
    {
     "data": {
      "text/plain": [
       "array([20, 15, 30])"
      ]
     },
     "execution_count": 12,
     "metadata": {},
     "output_type": "execute_result"
    }
   ],
   "source": [
    "sizes=np.array([20,15,30])\n",
    "num_hidden=3\n",
    "sizes"
   ]
  },
  {
   "cell_type": "code",
   "execution_count": 13,
   "metadata": {},
   "outputs": [
    {
     "name": "stdout",
     "output_type": "stream",
     "text": [
      "Weight ,Bias Initialised\n"
     ]
    }
   ],
   "source": [
    "#initialize weights and bias\n",
    "sizes=np.asarray(sizes)\n",
    "sizes=np.insert(sizes,0,784)\n",
    "wt=[] #list of weight matrices \n",
    "bias=[] #list of bias vectors\n",
    "for n in range(num_hidden):\n",
    "    w=np.random.rand(sizes[n],sizes[n+1])\n",
    "    b=np.random.rand(1,sizes[n+1])  \n",
    "    wt.append(w)\n",
    "    bias.append(b)\n",
    "    \n",
    "w=np.random.rand(sizes[num_hidden],10)\n",
    "b=np.random.rand(10)  \n",
    "wt.append(w)\n",
    "bias.append(b)\n",
    "print(\"Weight ,Bias Initialised\")"
   ]
  },
  {
   "cell_type": "code",
   "execution_count": null,
   "metadata": {},
   "outputs": [],
   "source": [
    "def gradient(h):\n",
    "    if func is \"sigmoid\":\n",
    "        return np.multiply(h,1-h)\n",
    "    else if func is \"tanh\":\n",
    "        return 1 - np.multiply(1-h,1-h)\n",
    "\n",
    "def fvalue(a):\n",
    "    if func is \"sigmoid\":\n",
    "        return np.reciprocal(np.add(1,np.exp(-a)))\n",
    "    else if func is \"tanh\":\n",
    "        return np.multiply(np.exp(a)- np.exp(-a) , np.reciprocal( np.exp(a)+np.exp(-a) ) )\n",
    "\n",
    "    \n",
    "def outputgrad():\n",
    "    pass\n",
    "\n",
    "def updatep():\n",
    "    pass\n",
    "\n"
   ]
  },
  {
   "cell_type": "code",
   "execution_count": 14,
   "metadata": {},
   "outputs": [],
   "source": [
    "# implementing functions to do different tasks. This is the main function block\n",
    "def vanilla_grad_desc(num_hidden,sizes):\n",
    "    eta=0.1\n",
    "    x=train[1:,1:785]\n",
    "    y=train[1:,785]\n",
    "    hs=[]\n",
    "    # calculate the initial class out put from w and b initializations\n",
    "    #for im in range(x.size[0]):\n",
    "    \n",
    "    h=x\n",
    "    hs.append(x)\n",
    "    for n in range(num_hidden):\n",
    "        a=np.add(np.matmul(h,wt[n]),bias[n])\n",
    "        h=np.reciprocal(np.add(1,np.exp(-a)))\n",
    "        hs.append(h)\n",
    "    a=np.add(np.matmul(h,wt[num_hidden]),bias[num_hidden]) \n",
    "    yhat= np.exp(a)/sum(np.exp(a))\n",
    "    \n",
    "    \n",
    "    #for CEEF\n",
    "    oneH = np.zeros((x.shape[0],10))\n",
    "    \n",
    "    oneH[np.arange(x.shape[0]),y.astype(int)]=1\n",
    "    \n",
    "    loss =  -np.sum(np.multiply( np.log(yhat) ,oneH))\n",
    "    print(loss,\" ,\")\n",
    "    Dak = yhat -  oneH\n",
    "\n",
    "    for k in range(num_hidden,-1,-1):\n",
    "        Dwk = (hs[k][:,:,None])*Dak[:,None,:]\n",
    "        if k is num_hidden:\n",
    "            print(Dwk[1,1:20,1],Dak.shape,np.sum(Dwk,axis=0).shape,wt[k].shape)\n",
    "        wt[k] = wt[k] - eta *  np.sum(Dwk,axis=0)\n",
    "        Dbk = Dak\n",
    "        bias[k] = bias[k] - eta * np.sum(Dbk,axis=0)\n",
    "        Dhk = np.matmul( Dak ,np.transpose( wt[k] ))\n",
    "        Dak = np.multiply(Dhk,np.multiply(hs[k] , 1-hs[k]) )         \n",
    "    \n",
    "    #print(wt[2][1:10,1])\n",
    "    return yhat\n",
    "    "
   ]
  },
  {
   "cell_type": "code",
   "execution_count": 15,
   "metadata": {},
   "outputs": [
    {
     "name": "stdout",
     "output_type": "stream",
     "text": [
      "600317.95045244  ,\n",
      "[1.81754436e-05 1.81710270e-05 1.81638956e-05 1.80655102e-05\n",
      " 1.81784468e-05 1.81810971e-05 1.81672063e-05 1.81767084e-05\n",
      " 1.81694599e-05 1.81734559e-05 1.81810824e-05 1.81681174e-05\n",
      " 1.81745505e-05 1.81694360e-05 1.81761809e-05 1.81725575e-05\n",
      " 1.81813263e-05 1.81707642e-05 1.81307052e-05] (54999, 10) (30, 10) (30, 10)\n"
     ]
    },
    {
     "ename": "MemoryError",
     "evalue": "",
     "output_type": "error",
     "traceback": [
      "\u001b[0;31m---------------------------------------------------------------------------\u001b[0m",
      "\u001b[0;31mMemoryError\u001b[0m                               Traceback (most recent call last)",
      "\u001b[0;32m<ipython-input-15-29a09f972f7b>\u001b[0m in \u001b[0;36m<module>\u001b[0;34m()\u001b[0m\n\u001b[1;32m      1\u001b[0m \u001b[0;32mfor\u001b[0m \u001b[0mk\u001b[0m \u001b[0;32min\u001b[0m \u001b[0mrange\u001b[0m\u001b[0;34m(\u001b[0m\u001b[0;36m10\u001b[0m\u001b[0;34m)\u001b[0m\u001b[0;34m:\u001b[0m\u001b[0;34m\u001b[0m\u001b[0m\n\u001b[0;32m----> 2\u001b[0;31m     \u001b[0myc\u001b[0m\u001b[0;34m=\u001b[0m\u001b[0mvanilla_grad_desc\u001b[0m\u001b[0;34m(\u001b[0m\u001b[0mnum_hidden\u001b[0m\u001b[0;34m,\u001b[0m\u001b[0msizes\u001b[0m\u001b[0;34m)\u001b[0m\u001b[0;34m\u001b[0m\u001b[0m\n\u001b[0m",
      "\u001b[0;32m<ipython-input-14-98f9f637ee97>\u001b[0m in \u001b[0;36mvanilla_grad_desc\u001b[0;34m(num_hidden, sizes)\u001b[0m\n\u001b[1;32m     28\u001b[0m \u001b[0;34m\u001b[0m\u001b[0m\n\u001b[1;32m     29\u001b[0m     \u001b[0;32mfor\u001b[0m \u001b[0mk\u001b[0m \u001b[0;32min\u001b[0m \u001b[0mrange\u001b[0m\u001b[0;34m(\u001b[0m\u001b[0mnum_hidden\u001b[0m\u001b[0;34m,\u001b[0m\u001b[0;34m-\u001b[0m\u001b[0;36m1\u001b[0m\u001b[0;34m,\u001b[0m\u001b[0;34m-\u001b[0m\u001b[0;36m1\u001b[0m\u001b[0;34m)\u001b[0m\u001b[0;34m:\u001b[0m\u001b[0;34m\u001b[0m\u001b[0m\n\u001b[0;32m---> 30\u001b[0;31m         \u001b[0mDwk\u001b[0m \u001b[0;34m=\u001b[0m \u001b[0;34m(\u001b[0m\u001b[0mhs\u001b[0m\u001b[0;34m[\u001b[0m\u001b[0mk\u001b[0m\u001b[0;34m]\u001b[0m\u001b[0;34m[\u001b[0m\u001b[0;34m:\u001b[0m\u001b[0;34m,\u001b[0m\u001b[0;34m:\u001b[0m\u001b[0;34m,\u001b[0m\u001b[0;32mNone\u001b[0m\u001b[0;34m]\u001b[0m\u001b[0;34m)\u001b[0m\u001b[0;34m*\u001b[0m\u001b[0mDak\u001b[0m\u001b[0;34m[\u001b[0m\u001b[0;34m:\u001b[0m\u001b[0;34m,\u001b[0m\u001b[0;32mNone\u001b[0m\u001b[0;34m,\u001b[0m\u001b[0;34m:\u001b[0m\u001b[0;34m]\u001b[0m\u001b[0;34m\u001b[0m\u001b[0m\n\u001b[0m\u001b[1;32m     31\u001b[0m         \u001b[0;32mif\u001b[0m \u001b[0mk\u001b[0m \u001b[0;32mis\u001b[0m \u001b[0mnum_hidden\u001b[0m\u001b[0;34m:\u001b[0m\u001b[0;34m\u001b[0m\u001b[0m\n\u001b[1;32m     32\u001b[0m             \u001b[0mprint\u001b[0m\u001b[0;34m(\u001b[0m\u001b[0mDwk\u001b[0m\u001b[0;34m[\u001b[0m\u001b[0;36m1\u001b[0m\u001b[0;34m,\u001b[0m\u001b[0;36m1\u001b[0m\u001b[0;34m:\u001b[0m\u001b[0;36m20\u001b[0m\u001b[0;34m,\u001b[0m\u001b[0;36m1\u001b[0m\u001b[0;34m]\u001b[0m\u001b[0;34m,\u001b[0m\u001b[0mDak\u001b[0m\u001b[0;34m.\u001b[0m\u001b[0mshape\u001b[0m\u001b[0;34m,\u001b[0m\u001b[0mnp\u001b[0m\u001b[0;34m.\u001b[0m\u001b[0msum\u001b[0m\u001b[0;34m(\u001b[0m\u001b[0mDwk\u001b[0m\u001b[0;34m,\u001b[0m\u001b[0maxis\u001b[0m\u001b[0;34m=\u001b[0m\u001b[0;36m0\u001b[0m\u001b[0;34m)\u001b[0m\u001b[0;34m.\u001b[0m\u001b[0mshape\u001b[0m\u001b[0;34m,\u001b[0m\u001b[0mwt\u001b[0m\u001b[0;34m[\u001b[0m\u001b[0mk\u001b[0m\u001b[0;34m]\u001b[0m\u001b[0;34m.\u001b[0m\u001b[0mshape\u001b[0m\u001b[0;34m)\u001b[0m\u001b[0;34m\u001b[0m\u001b[0m\n",
      "\u001b[0;31mMemoryError\u001b[0m: "
     ]
    }
   ],
   "source": [
    "for k in range(10): \n",
    "    yc=vanilla_grad_desc(num_hidden,sizes)"
   ]
  },
  {
   "cell_type": "code",
   "execution_count": null,
   "metadata": {},
   "outputs": [],
   "source": [
    "oneH = np.zeros((x.shape[0],10))\n",
    "np.arange(10)\n",
    "v=np.arange(x.shape[0])\n",
    "oneH[v,y.astype(int)]=1\n",
    "loss"
   ]
  },
  {
   "cell_type": "code",
   "execution_count": null,
   "metadata": {},
   "outputs": [],
   "source": [
    "a=np.array([1,2,3,4,0])\n",
    "b=np.arange(5)\n",
    "oneH = np.zeros((5,6))\n",
    "\n",
    "oneH[b,a]=1\n",
    "oneH\n",
    "if type(y[0]) is int:\n",
    "    \n",
    "    print( \"hi\")\n",
    "print(y[0])\n"
   ]
  },
  {
   "cell_type": "code",
   "execution_count": null,
   "metadata": {},
   "outputs": [],
   "source": [
    "np.shape(y)"
   ]
  },
  {
   "cell_type": "code",
   "execution_count": null,
   "metadata": {},
   "outputs": [],
   "source": []
  },
  {
   "cell_type": "code",
   "execution_count": null,
   "metadata": {},
   "outputs": [],
   "source": []
  },
  {
   "cell_type": "code",
   "execution_count": null,
   "metadata": {},
   "outputs": [],
   "source": []
  },
  {
   "cell_type": "code",
   "execution_count": null,
   "metadata": {},
   "outputs": [],
   "source": []
  }
 ],
 "metadata": {
  "kernelspec": {
   "display_name": "Python 3",
   "language": "python",
   "name": "python3"
  },
  "language_info": {
   "codemirror_mode": {
    "name": "ipython",
    "version": 3
   },
   "file_extension": ".py",
   "mimetype": "text/x-python",
   "name": "python",
   "nbconvert_exporter": "python",
   "pygments_lexer": "ipython3",
   "version": "3.6.5"
  }
 },
 "nbformat": 4,
 "nbformat_minor": 2
}
