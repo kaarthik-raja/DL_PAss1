{
 "cells": [
  {
   "cell_type": "code",
   "execution_count": 1,
   "metadata": {},
   "outputs": [],
   "source": [
    "import numpy as np\n",
    "import pandas as pd \n",
    "import matplotlib.pyplot as plt\n"
   ]
  },
  {
   "cell_type": "code",
   "execution_count": 2,
   "metadata": {},
   "outputs": [],
   "source": [
    "import argparse"
   ]
  },
  {
   "cell_type": "code",
   "execution_count": 3,
   "metadata": {},
   "outputs": [],
   "source": [
    "train=pd.read_csv(\"C:\\\\Users\\\\Windows\\\\Documents\\\\GitHub\\\\DL_PAss1\\\\Data\\\\train.csv\")\n",
    "test=pd.read_csv(\"C:\\\\Users\\\\Windows\\\\Documents\\\\GitHub\\\\DL_PAss1\\\\Data\\\\test.csv\")"
   ]
  },
  {
   "cell_type": "code",
   "execution_count": null,
   "metadata": {},
   "outputs": [],
   "source": []
  },
  {
   "cell_type": "code",
   "execution_count": 25,
   "metadata": {},
   "outputs": [],
   "source": [
    "train=np.asarray(train)\n",
    "test=np.asarray(test)"
   ]
  },
  {
   "cell_type": "code",
   "execution_count": 26,
   "metadata": {},
   "outputs": [],
   "source": [
    "np.random.shuffle(train)\n",
    "np.random.shuffle(test)\n"
   ]
  },
  {
   "cell_type": "code",
   "execution_count": 5,
   "metadata": {},
   "outputs": [],
   "source": [
    "val=pd.read_csv(\"C:\\\\Users\\\\Windows\\\\Documents\\\\GitHub\\\\DL_PAss1\\\\Data\\\\valid.csv\")"
   ]
  },
  {
   "cell_type": "code",
   "execution_count": 81,
   "metadata": {},
   "outputs": [],
   "source": [
    "#initialize weights and bias\n",
    "sizes=np.asarray(sizes)\n",
    "sizes=np.insert(sizes,0,784)\n",
    "wt=[] #list of weight matrices \n",
    "bias=[] #list of bias vectors\n",
    "for n in range(num_hidden):\n",
    "    w=np.random.rand(sizes[n],sizes[n+1])\n",
    "    b=np.random.rand(1,sizes[n+1])  \n",
    "    wt.append(w)\n",
    "    bias.append(b)\n",
    "    \n",
    "w=np.random.rand(sizes[num_hidden],10)\n",
    "b=np.random.rand(10)  \n",
    "wt.append(w)\n",
    "bias.append(b)"
   ]
  },
  {
   "cell_type": "code",
   "execution_count": 82,
   "metadata": {},
   "outputs": [],
   "source": [
    "# implementing functions to do different tasks. This is the main function block\n",
    "def vanilla_grad_desc(num_hidden,sizes):\n",
    "    x=train[1:,1:785]\n",
    "    y=train[1:,785]\n",
    "\n",
    "    # calculate the initial class out put from w and b initializations\n",
    "    #for im in range(x.size[0]):\n",
    "    \n",
    "    h=x\n",
    "    for n in range(num_hidden):\n",
    "           \n",
    "            a=np.add(np.matmul(h,wt[n]),bias[n])\n",
    "            h=np.reciprocal(np.add(1,np.exp(-a)))\n",
    "                     \n",
    "        \n",
    "   \n",
    "    a=np.add(np.matmul(h,wt[num_hidden]),bias[num_hidden]) \n",
    "    yhat= np.exp(a)/sum(np.exp(a))\n",
    "    \n",
    "    #for CEEF\n",
    "    oneH = np.zeros((train.size(0),10))\n",
    "    oneH[np.arrange(train.size(0)),y]=1\n",
    "    DaL = yhat -  oneH\n",
    "    for n in range(num_hidden):\n",
    "    return yhat\n",
    "    "
   ]
  },
  {
   "cell_type": "code",
   "execution_count": 73,
   "metadata": {},
   "outputs": [
    {
     "data": {
      "text/plain": [
       "array([3, 3, 2])"
      ]
     },
     "execution_count": 73,
     "metadata": {},
     "output_type": "execute_result"
    }
   ],
   "source": [
    "sizes=np.array([3,3,2])\n",
    "num_hidden=3\n",
    "sizes"
   ]
  },
  {
   "cell_type": "code",
   "execution_count": 83,
   "metadata": {},
   "outputs": [],
   "source": [
    "yc=vanilla_grad_desc(num_hidden,sizes)"
   ]
  },
  {
   "cell_type": "code",
   "execution_count": 56,
   "metadata": {},
   "outputs": [
    {
     "data": {
      "text/plain": [
       "3"
      ]
     },
     "execution_count": 56,
     "metadata": {},
     "output_type": "execute_result"
    }
   ],
   "source": [
    "sizes[0]"
   ]
  },
  {
   "cell_type": "code",
   "execution_count": 84,
   "metadata": {},
   "outputs": [
    {
     "data": {
      "text/plain": [
       "(54999, 10)"
      ]
     },
     "execution_count": 84,
     "metadata": {},
     "output_type": "execute_result"
    }
   ],
   "source": [
    "np.shape(yc)"
   ]
  },
  {
   "cell_type": "code",
   "execution_count": 76,
   "metadata": {},
   "outputs": [
    {
     "data": {
      "text/plain": [
       "(54999, 783)"
      ]
     },
     "execution_count": 76,
     "metadata": {},
     "output_type": "execute_result"
    }
   ],
   "source": [
    "np.shape(x)"
   ]
  },
  {
   "cell_type": "code",
   "execution_count": 79,
   "metadata": {},
   "outputs": [
    {
     "data": {
      "text/plain": [
       "list"
      ]
     },
     "execution_count": 79,
     "metadata": {},
     "output_type": "execute_result"
    }
   ],
   "source": []
  },
  {
   "cell_type": "code",
   "execution_count": null,
   "metadata": {},
   "outputs": [],
   "source": []
  }
 ],
 "metadata": {
  "kernelspec": {
   "display_name": "Python 3",
   "language": "python",
   "name": "python3"
  },
  "language_info": {
   "codemirror_mode": {
    "name": "ipython",
    "version": 3
   },
   "file_extension": ".py",
   "mimetype": "text/x-python",
   "name": "python",
   "nbconvert_exporter": "python",
   "pygments_lexer": "ipython3",
   "version": "3.7.0"
  }
 },
 "nbformat": 4,
 "nbformat_minor": 2
}
