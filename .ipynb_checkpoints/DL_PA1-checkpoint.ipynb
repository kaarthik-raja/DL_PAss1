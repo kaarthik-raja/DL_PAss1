{
 "cells": [
  {
   "cell_type": "code",
   "execution_count": 1,
   "metadata": {},
   "outputs": [],
   "source": [
    "import numpy as np\n",
    "import pandas as pd \n",
    "import matplotlib.pyplot as plt\n"
   ]
  },
  {
   "cell_type": "code",
   "execution_count": 2,
   "metadata": {},
   "outputs": [],
   "source": [
    "import argparse"
   ]
  },
  {
   "cell_type": "code",
   "execution_count": 3,
   "metadata": {},
   "outputs": [],
   "source": [
    "train=pd.read_csv(\"C:\\\\Users\\\\Windows\\\\Documents\\\\GitHub\\\\DL_PAss1\\\\Data\\\\train.csv\")\n",
    "test=pd.read_csv(\"C:\\\\Users\\\\Windows\\\\Documents\\\\GitHub\\\\DL_PAss1\\\\Data\\\\test.csv\")"
   ]
  },
  {
   "cell_type": "code",
   "execution_count": 25,
   "metadata": {},
   "outputs": [],
   "source": [
    "train=np.asarray(train)\n",
    "test=np.asarray(test)"
   ]
  },
  {
   "cell_type": "code",
   "execution_count": 26,
   "metadata": {},
   "outputs": [],
   "source": [
    "np.random.shuffle(train)\n",
    "np.random.shuffle(test)\n"
   ]
  },
  {
   "cell_type": "code",
   "execution_count": 5,
   "metadata": {},
   "outputs": [],
   "source": [
    "val=pd.read_csv(\"C:\\\\Users\\\\Windows\\\\Documents\\\\GitHub\\\\DL_PAss1\\\\Data\\\\valid.csv\")"
   ]
  },
  {
   "cell_type": "code",
   "execution_count": 81,
   "metadata": {},
   "outputs": [],
   "source": [
    "#initialize weights and bias\n",
    "sizes=np.asarray(sizes)\n",
    "sizes=np.insert(sizes,0,784)\n",
    "wt=[] #list of weight matrices \n",
    "bias=[] #list of bias vectors\n",
    "for n in range(num_hidden):\n",
    "    w=np.random.rand(sizes[n],sizes[n+1])\n",
    "    b=np.random.rand(1,sizes[n+1])  \n",
    "    wt.append(w)\n",
    "    bias.append(b)\n",
    "    \n",
    "w=np.random.rand(sizes[num_hidden],10)\n",
    "b=np.random.rand(10)  \n",
    "wt.append(w)\n",
    "bias.append(b)"
   ]
  },
  {
   "cell_type": "code",
   "execution_count": 149,
   "metadata": {},
   "outputs": [],
   "source": [
    "# implementing functions to do different tasks. This is the main function block\n",
    "def vanilla_grad_desc(num_hidden,sizes):\n",
    "    eta=0.1\n",
    "    x=train[1:,1:785]\n",
    "    y=train[1:,785]\n",
    "    hs=[]\n",
    "    # calculate the initial class out put from w and b initializations\n",
    "    #for im in range(x.size[0]):\n",
    "    \n",
    "    h=x\n",
    "    hs.append(x)\n",
    "    for n in range(num_hidden):\n",
    "           \n",
    "            a=np.add(np.matmul(h,wt[n]),bias[n])\n",
    "            h=np.reciprocal(np.add(1,np.exp(-a)))\n",
    "            hs.append(h)\n",
    "    a=np.add(np.matmul(h,wt[num_hidden]),bias[num_hidden]) \n",
    "    yhat= np.exp(a)/sum(np.exp(a))\n",
    "    \n",
    "    \n",
    "    #for CEEF\n",
    "    oneH = np.zeros((x.shape[0],10))\n",
    "    \n",
    "    oneH[np.arange(x.shape[0]),y.astype(int)]=1\n",
    "    \n",
    "    loss =  -np.sum(np.multiply( np.log(yhat) ,oneH))\n",
    "    print(loss)\n",
    "    Dak = yhat -  oneH\n",
    "\n",
    "    for k in range(num_hidden,0):\n",
    "        Dwk = Dak[:,:,None]*(hs[k-1])[:,None,:]\n",
    "        wt[k-1] = wt[k-1] - eta *  np.sum(Dwk,axis=0)\n",
    "        Dbk = Dak\n",
    "        bias[k-1] = bias[k-1] - eta * np.sum(Dbk,axis=0)\n",
    "        Dhk = Dak * wt[k-1]\n",
    "        Dak = np.multiply(Dhk,np.multiply(hs[k-1] , 1-hs[k-1]) )         \n",
    "    \n",
    "    \n",
    "    return yhat\n",
    "    "
   ]
  },
  {
   "cell_type": "code",
   "execution_count": 150,
   "metadata": {},
   "outputs": [
    {
     "data": {
      "text/plain": [
       "array([3, 3, 2])"
      ]
     },
     "execution_count": 150,
     "metadata": {},
     "output_type": "execute_result"
    }
   ],
   "source": [
    "sizes=np.array([3,3,2])\n",
    "num_hidden=3\n",
    "sizes"
   ]
  },
  {
   "cell_type": "code",
   "execution_count": 153,
   "metadata": {},
   "outputs": [
    {
     "data": {
      "text/plain": [
       "array([3, 3, 2])"
      ]
     },
     "execution_count": 153,
     "metadata": {},
     "output_type": "execute_result"
    }
   ],
   "source": [
    "x.shape[0]\n",
    "sizes"
   ]
  },
  {
   "cell_type": "code",
   "execution_count": 152,
   "metadata": {},
   "outputs": [
    {
     "name": "stdout",
     "output_type": "stream",
     "text": [
      "600317.9504524602\n"
     ]
    }
   ],
   "source": [
    "yc=vanilla_grad_desc(num_hidden,sizes)"
   ]
  },
  {
   "cell_type": "code",
   "execution_count": 148,
   "metadata": {},
   "outputs": [
    {
     "ename": "NameError",
     "evalue": "name 'loss' is not defined",
     "output_type": "error",
     "traceback": [
      "\u001b[1;31m---------------------------------------------------------------------------\u001b[0m",
      "\u001b[1;31mNameError\u001b[0m                                 Traceback (most recent call last)",
      "\u001b[1;32m<ipython-input-148-8773834c97ec>\u001b[0m in \u001b[0;36m<module>\u001b[1;34m()\u001b[0m\n\u001b[0;32m      3\u001b[0m \u001b[0mv\u001b[0m\u001b[1;33m=\u001b[0m\u001b[0mnp\u001b[0m\u001b[1;33m.\u001b[0m\u001b[0marange\u001b[0m\u001b[1;33m(\u001b[0m\u001b[0mx\u001b[0m\u001b[1;33m.\u001b[0m\u001b[0mshape\u001b[0m\u001b[1;33m[\u001b[0m\u001b[1;36m0\u001b[0m\u001b[1;33m]\u001b[0m\u001b[1;33m)\u001b[0m\u001b[1;33m\u001b[0m\u001b[0m\n\u001b[0;32m      4\u001b[0m \u001b[0moneH\u001b[0m\u001b[1;33m[\u001b[0m\u001b[0mv\u001b[0m\u001b[1;33m,\u001b[0m\u001b[0my\u001b[0m\u001b[1;33m.\u001b[0m\u001b[0mastype\u001b[0m\u001b[1;33m(\u001b[0m\u001b[0mint\u001b[0m\u001b[1;33m)\u001b[0m\u001b[1;33m]\u001b[0m\u001b[1;33m=\u001b[0m\u001b[1;36m1\u001b[0m\u001b[1;33m\u001b[0m\u001b[0m\n\u001b[1;32m----> 5\u001b[1;33m \u001b[0mloss\u001b[0m\u001b[1;33m\u001b[0m\u001b[0m\n\u001b[0m",
      "\u001b[1;31mNameError\u001b[0m: name 'loss' is not defined"
     ]
    }
   ],
   "source": [
    "oneH = np.zeros((x.shape[0],10))\n",
    "np.arange(10)\n",
    "v=np.arange(x.shape[0])\n",
    "oneH[v,y.astype(int)]=1\n",
    "loss"
   ]
  },
  {
   "cell_type": "code",
   "execution_count": 131,
   "metadata": {},
   "outputs": [
    {
     "name": "stdout",
     "output_type": "stream",
     "text": [
      "1.0\n"
     ]
    }
   ],
   "source": [
    "a=np.array([1,2,3,4,0])\n",
    "b=np.arange(5)\n",
    "oneH = np.zeros((5,6))\n",
    "\n",
    "oneH[b,a]=1\n",
    "oneH\n",
    "if type(y[0]) is int:\n",
    "    \n",
    "    print( \"hi\")\n",
    "print(y[0])\n"
   ]
  },
  {
   "cell_type": "code",
   "execution_count": 129,
   "metadata": {},
   "outputs": [
    {
     "data": {
      "text/plain": [
       "(54999,)"
      ]
     },
     "execution_count": 129,
     "metadata": {},
     "output_type": "execute_result"
    }
   ],
   "source": [
    "np.shape(y)"
   ]
  },
  {
   "cell_type": "code",
   "execution_count": null,
   "metadata": {},
   "outputs": [],
   "source": []
  },
  {
   "cell_type": "code",
   "execution_count": null,
   "metadata": {},
   "outputs": [],
   "source": []
  }
 ],
 "metadata": {
  "kernelspec": {
   "display_name": "Python 3",
   "language": "python",
   "name": "python3"
  },
  "language_info": {
   "codemirror_mode": {
    "name": "ipython",
    "version": 3
   },
   "file_extension": ".py",
   "mimetype": "text/x-python",
   "name": "python",
   "nbconvert_exporter": "python",
   "pygments_lexer": "ipython3",
   "version": "3.7.0"
  }
 },
 "nbformat": 4,
 "nbformat_minor": 2
}
