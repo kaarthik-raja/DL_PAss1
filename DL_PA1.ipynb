{
 "cells": [
  {
   "cell_type": "code",
   "execution_count": 1,
   "metadata": {},
   "outputs": [],
   "source": [
    "import numpy as np\n",
    "import pandas as pd \n",
    "import matplotlib.pyplot as plt\n"
   ]
  },
  {
   "cell_type": "code",
   "execution_count": 20,
   "metadata": {},
   "outputs": [],
   "source": [
    "import argparse"
   ]
  },
  {
   "cell_type": "code",
   "execution_count": 14,
   "metadata": {},
   "outputs": [],
   "source": [
    "train=pd.read_csv(\"C:\\\\Users\\\\Windows\\\\Documents\\\\DL\\\\dl2019pa1\\\\train.csv\")\n",
    "test=pd.read_csv(\"C:\\\\Users\\\\Windows\\\\Documents\\\\DL\\\\dl2019pa1\\\\test.csv\")"
   ]
  },
  {
   "cell_type": "code",
   "execution_count": 19,
   "metadata": {},
   "outputs": [
    {
     "data": {
      "text/plain": [
       "Index(['id', 'feat0', 'feat1', 'feat2', 'feat3', 'feat4', 'feat5', 'feat6',\n",
       "       'feat7', 'feat8',\n",
       "       ...\n",
       "       'feat775', 'feat776', 'feat777', 'feat778', 'feat779', 'feat780',\n",
       "       'feat781', 'feat782', 'feat783', 'label'],\n",
       "      dtype='object', length=786)"
      ]
     },
     "execution_count": 19,
     "metadata": {},
     "output_type": "execute_result"
    }
   ],
   "source": [
    "train.columns"
   ]
  },
  {
   "cell_type": "code",
   "execution_count": 18,
   "metadata": {},
   "outputs": [],
   "source": [
    "val=pd.read_csv(\"C:\\\\Users\\\\Windows\\\\Documents\\\\DL\\\\dl2019pa1\\\\valid.csv\")"
   ]
  },
  {
   "cell_type": "code",
   "execution_count": null,
   "metadata": {},
   "outputs": [],
   "source": [
    "# implementing functions to do different tasks. This is the main function block\n",
    "def vanilla_grad_desc ():\n",
    "    x=train[0:783]\n",
    "    y=train[784]\n",
    "    "
   ]
  }
 ],
 "metadata": {
  "kernelspec": {
   "display_name": "Python 3",
   "language": "python",
   "name": "python3"
  },
  "language_info": {
   "codemirror_mode": {
    "name": "ipython",
    "version": 3
   },
   "file_extension": ".py",
   "mimetype": "text/x-python",
   "name": "python",
   "nbconvert_exporter": "python",
   "pygments_lexer": "ipython3",
   "version": "3.7.0"
  }
 },
 "nbformat": 4,
 "nbformat_minor": 2
}
