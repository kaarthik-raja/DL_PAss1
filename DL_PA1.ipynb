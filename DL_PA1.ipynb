{
 "cells": [
  {
   "cell_type": "code",
   "execution_count": 1,
   "metadata": {},
   "outputs": [],
   "source": [
    "import numpy as np\n",
    "import pandas as pd \n",
    "import matplotlib.pyplot as plt\n",
    "import argparse\n"
   ]
  },
  {
   "cell_type": "code",
   "execution_count": 11,
   "metadata": {},
   "outputs": [],
   "source": [
    "import os \n",
    "train_path=os.path.join(\"Data\",\"train.csv\")\n",
    "test_path=os.path.join(\"Data\", \"test.csv\")\n",
    "valid_path=os.path.join(\"Data\", \"valid.csv\")"
   ]
  },
  {
   "cell_type": "code",
   "execution_count": 12,
   "metadata": {},
   "outputs": [],
   "source": [
    "train=pd.read_csv(train_path)\n",
    "test=pd.read_csv(test_path)\n",
    "valid=pd.read_csv(valid_path)"
   ]
  },
  {
   "cell_type": "code",
   "execution_count": 18,
   "metadata": {},
   "outputs": [],
   "source": [
    "train=np.asarray(train)\n",
    "test=np.asarray(test)"
   ]
  },
  {
   "cell_type": "code",
   "execution_count": 65,
   "metadata": {},
   "outputs": [
    {
     "data": {
      "text/plain": [
       "array([10, 15, 20, 10])"
      ]
     },
     "execution_count": 65,
     "metadata": {},
     "output_type": "execute_result"
    }
   ],
   "source": [
    "#np.random.shuffle(train)\n",
    "# np.random.shuffle(test)\n",
    "sizes=np.array([10,15,20])\n",
    "np.append(sizes,10)"
   ]
  },
  {
   "cell_type": "code",
   "execution_count": 114,
   "metadata": {},
   "outputs": [
    {
     "name": "stdout",
     "output_type": "stream",
     "text": [
      "[784  10  15  20  10]\n"
     ]
    }
   ],
   "source": [
    "#initialize weights and bias\n",
    "sizes=np.array([10,15,20])\n",
    "num_hidden=3\n",
    "sizes=np.asarray(sizes)\n",
    "sizes=np.insert(sizes,0,784)\n",
    "sizes=np.append(sizes,10)\n",
    "print(sizes)\n",
    "wt=[] #list of weight matrices \n",
    "bias=[] #list of bias vectors\n",
    "for n in range(num_hidden):\n",
    "    w=np.random.rand(sizes[n],sizes[n+1])\n",
    "    b=np.random.rand(1,sizes[n+1])  \n",
    "    wt.append(w)\n",
    "    bias.append(b)\n",
    "    \n",
    "w=np.random.rand(sizes[num_hidden],10)\n",
    "b=np.random.rand(10)  \n",
    "wt.append(w)\n",
    "bias.append(b)"
   ]
  },
  {
   "cell_type": "code",
   "execution_count": 115,
   "metadata": {},
   "outputs": [],
   "source": [
    "#print(wt)"
   ]
  },
  {
   "cell_type": "code",
   "execution_count": 116,
   "metadata": {},
   "outputs": [],
   "source": [
    "# implementing functions to do different tasks. This is the main function block\n",
    "def vanilla_grad_desc(num_hidden,sizes):\n",
    "    eta=0.1\n",
    "    x=train[1:,1:785]\n",
    "    y=train[1:,785]\n",
    "    hs=[]\n",
    "    # calculate the initial class out put from w and b initializations\n",
    "    #for im in range(x.size[0]):\n",
    "    \n",
    "    h=x\n",
    "    hs.append(x)\n",
    "    for n in range(num_hidden):\n",
    "            a=np.add(np.matmul(h,wt[n]),bias[n])\n",
    "            h=np.reciprocal(np.add(1,np.exp(-a)))\n",
    "            hs.append(h)\n",
    "    a=np.add(np.matmul(h,wt[num_hidden]),bias[num_hidden]) \n",
    "    \n",
    "    yhat= np.divide(np.exp(a),np.sum(np.exp(a)))\n",
    "    \n",
    "    #for CEEF\n",
    "    oneH = np.zeros((x.shape[0],10))\n",
    "    \n",
    "    oneH[np.arange(x.shape[0]),y.astype(int)]=1\n",
    "    \n",
    "    loss =  -np.mean(np.multiply( np.log(yhat) ,oneH))\n",
    "    print(\"loss\",loss)\n",
    "    Dak = yhat -  oneH\n",
    "    #print(sizes)\n",
    "    for k in range(num_hidden,-1,-1):\n",
    "        #print(k,\"=k\",hs[k].shape,Dak.shape)\n",
    "        Dwk= np.zeros((sizes[k],sizes[k+1]))\n",
    "        #print(Dwk.shape,hs[k][0].shape,Dak[0].shape,np.outer(hs[k][0],Dak[0]).shape)\n",
    "        for i in range(train.shape[0]-1):\n",
    "            Dwk = np.add(Dwk,np.outer(hs[k][i],Dak[i]))\n",
    "        wt[k] = wt[k] - eta * np.divide(Dwk,train.shape[0]-1)\n",
    "        #print(\"Dwk\",Dwk)\n",
    "        Dbk = Dak\n",
    "        bias[k] = bias[k] - eta * np.mean(Dbk,axis=0)\n",
    "        Dhk = np.matmul(Dak , np.transpose(wt[k]))\n",
    "        Dak = np.multiply(Dhk,np.multiply(hs[k] , 1-hs[k]) )        \n",
    "    \n",
    "    return yhat\n",
    "    "
   ]
  },
  {
   "cell_type": "code",
   "execution_count": 117,
   "metadata": {},
   "outputs": [
    {
     "name": "stdout",
     "output_type": "stream",
     "text": [
      "loss 1.3673393057110945\n",
      "loss 1.3673391021982608\n",
      "loss 1.3673388991293447\n",
      "loss 1.3673386964994974\n",
      "loss 1.3673384943038362\n",
      "loss 1.3673382925374398\n",
      "loss 1.3673380911953592\n",
      "loss 1.367337890272614\n",
      "loss 1.3673376897641947\n",
      "loss 1.3673374896650612\n"
     ]
    }
   ],
   "source": [
    "for i in range(10):\n",
    "    yc=vanilla_grad_desc(num_hidden,sizes)"
   ]
  },
  {
   "cell_type": "code",
   "execution_count": 71,
   "metadata": {},
   "outputs": [
    {
     "data": {
      "text/plain": [
       "array([2., 7., 3., ..., 6., 2., 5.])"
      ]
     },
     "execution_count": 71,
     "metadata": {},
     "output_type": "execute_result"
    }
   ],
   "source": [
    "train[:,785]"
   ]
  },
  {
   "cell_type": "code",
   "execution_count": 131,
   "metadata": {},
   "outputs": [
    {
     "name": "stdout",
     "output_type": "stream",
     "text": [
      "1.0\n"
     ]
    }
   ],
   "source": [
    "a=np.array([1,2,3,4,0])\n",
    "b=np.arange(5)\n",
    "oneH = np.zeros((5,6))\n",
    "\n",
    "oneH[b,a]=1\n",
    "oneH\n",
    "if type(y[0]) is int:\n",
    "    \n",
    "    print( \"hi\")\n",
    "print(y[0])\n"
   ]
  },
  {
   "cell_type": "code",
   "execution_count": 129,
   "metadata": {},
   "outputs": [
    {
     "data": {
      "text/plain": [
       "(54999,)"
      ]
     },
     "execution_count": 129,
     "metadata": {},
     "output_type": "execute_result"
    }
   ],
   "source": [
    "np.shape(y)"
   ]
  },
  {
   "cell_type": "code",
   "execution_count": null,
   "metadata": {},
   "outputs": [],
   "source": []
  },
  {
   "cell_type": "code",
   "execution_count": null,
   "metadata": {},
   "outputs": [],
   "source": []
  }
 ],
 "metadata": {
  "kernelspec": {
   "display_name": "Python 3",
   "language": "python",
   "name": "python3"
  },
  "language_info": {
   "codemirror_mode": {
    "name": "ipython",
    "version": 3
   },
   "file_extension": ".py",
   "mimetype": "text/x-python",
   "name": "python",
   "nbconvert_exporter": "python",
   "pygments_lexer": "ipython3",
   "version": "3.7.0"
  }
 },
 "nbformat": 4,
 "nbformat_minor": 2
}
